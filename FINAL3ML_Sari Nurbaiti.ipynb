{
  "nbformat": 4,
  "nbformat_minor": 0,
  "metadata": {
    "colab": {
      "name": "FINAL3ML.ipynb",
      "provenance": []
    },
    "kernelspec": {
      "name": "python3",
      "display_name": "Python 3"
    },
    "language_info": {
      "name": "python"
    }
  },
  "cells": [
    {
      "cell_type": "markdown",
      "metadata": {
        "id": "3oCqUhxfbFzz"
      },
      "source": [
        "Submission 3 Final Image Classification Model Deployment \\ Nama: Sari Nurbaiti \\ email: sarinurbaiti850@gmail.com\\ No Hp/WA : 085783778776"
      ]
    },
    {
      "cell_type": "code",
      "metadata": {
        "colab": {
          "base_uri": "https://localhost:8080/"
        },
        "id": "BywGxCxOHAJj",
        "outputId": "106af68b-c271-4958-dc44-adbfdc950eb1"
      },
      "source": [
        "!wget --no-check-certificate \\\n",
        "  https://dicodingacademy.blob.core.windows.net/picodiploma/ml_pemula_academy/rockpaperscissors.zip \\\n",
        "  -O /tmp/rockpaperscissors.zip"
      ],
      "execution_count": 1,
      "outputs": [
        {
          "output_type": "stream",
          "text": [
            "--2021-07-23 06:45:54--  https://dicodingacademy.blob.core.windows.net/picodiploma/ml_pemula_academy/rockpaperscissors.zip\n",
            "Resolving dicodingacademy.blob.core.windows.net (dicodingacademy.blob.core.windows.net)... 52.239.197.36\n",
            "Connecting to dicodingacademy.blob.core.windows.net (dicodingacademy.blob.core.windows.net)|52.239.197.36|:443... connected.\n",
            "HTTP request sent, awaiting response... 200 OK\n",
            "Length: 322873683 (308M) [application/zip]\n",
            "Saving to: ‘/tmp/rockpaperscissors.zip’\n",
            "\n",
            "/tmp/rockpapersciss 100%[===================>] 307.92M  8.44MB/s    in 65s     \n",
            "\n",
            "2021-07-23 06:47:00 (4.74 MB/s) - ‘/tmp/rockpaperscissors.zip’ saved [322873683/322873683]\n",
            "\n"
          ],
          "name": "stdout"
        }
      ]
    },
    {
      "cell_type": "code",
      "metadata": {
        "id": "fMSlUdVOHO-D"
      },
      "source": [
        "from zipfile import ZipFile\n",
        "import os\n",
        "\n",
        "# Membaca & mengekstak file dataset\n",
        "local_zip = '/tmp/rockpaperscissors.zip'\n",
        "zip_ref = ZipFile(local_zip, 'r')\n",
        "zip_ref.extractall('/tmp')\n",
        "zip_ref.close()"
      ],
      "execution_count": 3,
      "outputs": []
    },
    {
      "cell_type": "code",
      "metadata": {
        "colab": {
          "base_uri": "https://localhost:8080/"
        },
        "id": "iA2WO7lVHRLa",
        "outputId": "0a14f698-a657-43a0-a263-a8de0f8fa1dd"
      },
      "source": [
        "# Menampilkan listnya\n",
        "os.listdir('/tmp/rockpaperscissors/rps-cv-images')"
      ],
      "execution_count": 4,
      "outputs": [
        {
          "output_type": "execute_result",
          "data": {
            "text/plain": [
              "['README_rpc-cv-images.txt', 'rock', 'paper', 'scissors']"
            ]
          },
          "metadata": {
            "tags": []
          },
          "execution_count": 4
        }
      ]
    },
    {
      "cell_type": "code",
      "metadata": {
        "id": "QAJFYZMpHTGl"
      },
      "source": [
        "import sklearn\n",
        "from sklearn import datasets\n",
        "from sklearn.model_selection import train_test_split"
      ],
      "execution_count": 5,
      "outputs": []
    },
    {
      "cell_type": "code",
      "metadata": {
        "colab": {
          "base_uri": "https://localhost:8080/"
        },
        "id": "dBCEmkDUHXoj",
        "outputId": "09462703-286f-4358-87fc-37fe2243ca28"
      },
      "source": [
        "pip install split-folders"
      ],
      "execution_count": 6,
      "outputs": [
        {
          "output_type": "stream",
          "text": [
            "Collecting split-folders\n",
            "  Downloading split_folders-0.4.3-py3-none-any.whl (7.4 kB)\n",
            "Installing collected packages: split-folders\n",
            "Successfully installed split-folders-0.4.3\n"
          ],
          "name": "stdout"
        }
      ]
    },
    {
      "cell_type": "code",
      "metadata": {
        "colab": {
          "base_uri": "https://localhost:8080/"
        },
        "id": "EZhnbU87HYHD",
        "outputId": "a08f9cfe-b78f-4353-df54-10f9e68a8759"
      },
      "source": [
        "# Mendefinisikan nama direktori untuk data train dan data val\n",
        "import splitfolders\n",
        "base_dir = \"/tmp/rockpaperscissors/rps-cv-images\"\n",
        "splitfolders.ratio(base_dir, output = \"/tmp/rockpaperscissors/\", seed=42, ratio = (.8, .2))\n",
        "train_dir = os.path.join(\"/tmp/rockpaperscissors\",\"train\")\n",
        "validation_dir = os.path.join(\"/tmp/rockpaperscissors\",\"val\")"
      ],
      "execution_count": 7,
      "outputs": [
        {
          "output_type": "stream",
          "text": [
            "Copying files: 2188 files [00:00, 3093.12 files/s]\n"
          ],
          "name": "stderr"
        }
      ]
    },
    {
      "cell_type": "code",
      "metadata": {
        "id": "WqkW6mqOHcm4"
      },
      "source": [
        "!rm /tmp/rockpaperscissors/rps-cv-images/README_rpc-cv-images.txt"
      ],
      "execution_count": 8,
      "outputs": []
    },
    {
      "cell_type": "code",
      "metadata": {
        "id": "fujD-0wWH6M0"
      },
      "source": [
        "# Membuat direktori pada rock, paper, dan scissors\n",
        "base_rock_dir = os.path.join (base_dir, 'rock')\n",
        "base_paper_dir = os.path.join (base_dir, 'paper')\n",
        "base_scissors_dir = os.path.join (base_dir, 'scissors')"
      ],
      "execution_count": 9,
      "outputs": []
    },
    {
      "cell_type": "code",
      "metadata": {
        "id": "-blzwCX8H7I9"
      },
      "source": [
        "# Mengatur untuk train\n",
        "train_rock_is = os.path.join(train_dir, 'rock')\n",
        "train_paper_is = os.path.join (train_dir, 'paper')\n",
        "train_scissors_is = os.path.join (train_dir,'scissors')"
      ],
      "execution_count": 10,
      "outputs": []
    },
    {
      "cell_type": "code",
      "metadata": {
        "id": "oFq0jeoDH9zM"
      },
      "source": [
        "# Mengatur untuk val\n",
        "valid_rock_is = os.path.join(validation_dir,'rock')\n",
        "valid_paper_is = os.path.join (validation_dir, 'paper')\n",
        "valid_scissors_is = os.path.join (validation_dir, 'scissors')"
      ],
      "execution_count": 11,
      "outputs": []
    },
    {
      "cell_type": "code",
      "metadata": {
        "colab": {
          "base_uri": "https://localhost:8080/"
        },
        "id": "pgEYuBo3H_-y",
        "outputId": "29ad0937-861e-46f1-9a15-83e541333485"
      },
      "source": [
        "# Mengecek jumlah data masing masing kategori rock paper scissors\n",
        "sum_paper = len(os.listdir(base_paper_dir))\n",
        "sum_rock = len(os.listdir(base_rock_dir))\n",
        "sum_scissors = len(os.listdir(base_scissors_dir))\n",
        "\n",
        "# print jumlah data rock paper scissors\n",
        "print(\"Total Paper Image      : \",sum_paper)\n",
        "print(\"Total Rock Image       : \",sum_rock)\n",
        "print(\"Total Scissors Image  : \",sum_scissors)"
      ],
      "execution_count": 12,
      "outputs": [
        {
          "output_type": "stream",
          "text": [
            "Total Paper Image      :  712\n",
            "Total Rock Image       :  726\n",
            "Total Scissors Image  :  750\n"
          ],
          "name": "stdout"
        }
      ]
    },
    {
      "cell_type": "code",
      "metadata": {
        "id": "SThKcmPOIDxs"
      },
      "source": [
        "import tensorflow as tf\n",
        "from tensorflow.keras.optimizers import RMSprop\n",
        "from tensorflow.keras.preprocessing.image import ImageDataGenerator"
      ],
      "execution_count": 13,
      "outputs": []
    },
    {
      "cell_type": "code",
      "metadata": {
        "id": "NgO2GuuaIGe5"
      },
      "source": [
        "# Pembuatan Train dan Validation  data generator \n",
        "train_datagen = ImageDataGenerator(\n",
        "                    rotation_range=20,\n",
        "                    rescale=1./255,\n",
        "                    horizontal_flip=True,\n",
        "                    shear_range = 0.2,\n",
        "                    fill_mode = 'nearest')\n",
        " \n",
        "test_datagen = ImageDataGenerator(\n",
        "                    rotation_range=20,\n",
        "                    rescale=1./255,\n",
        "                    horizontal_flip=True,\n",
        "                    shear_range = 0.2,\n",
        "                    fill_mode = 'nearest')"
      ],
      "execution_count": 14,
      "outputs": []
    },
    {
      "cell_type": "code",
      "metadata": {
        "colab": {
          "base_uri": "https://localhost:8080/"
        },
        "id": "37jD6pO0INSM",
        "outputId": "7407315c-8761-45b2-b2bf-7b201711d68b"
      },
      "source": [
        "# Proses image data generator\n",
        "train_generator = train_datagen.flow_from_directory(\n",
        "    train_dir,\n",
        "    class_mode='categorical', # karena yang kita kerjakan merupakan masalah klasifikasi 3 kelas\n",
        "    target_size=(150,150), # mengubah resolusi seluruh gambar\n",
        "    batch_size=32\n",
        ")\n",
        "\n",
        "validation_generator = train_datagen.flow_from_directory(\n",
        "    validation_dir,\n",
        "    class_mode='categorical',# karena yang kita kerjakan merupakan masalah klasifikasi 3 kelas\n",
        "    target_size=(150,150), # mengubah resolusi seluruh gambar\n",
        "    batch_size=32\n",
        ")"
      ],
      "execution_count": 36,
      "outputs": [
        {
          "output_type": "stream",
          "text": [
            "Found 1749 images belonging to 3 classes.\n",
            "Found 439 images belonging to 3 classes.\n"
          ],
          "name": "stdout"
        }
      ]
    },
    {
      "cell_type": "code",
      "metadata": {
        "id": "zgWRuD4oIYVI"
      },
      "source": [
        "# Membuat Model dg tipe Sequential\n",
        "# Aktivasi relu + softmax dan dropout\n",
        "\n",
        "model = tf.keras.models.Sequential([\n",
        "    tf.keras.layers.Conv2D(64, (3,3), activation='relu', input_shape=(150, 150, 3)),\n",
        "    tf.keras.layers.MaxPooling2D(2, 2),\n",
        "    tf.keras.layers.Conv2D(64, (3,3), activation='relu'),\n",
        "    tf.keras.layers.MaxPooling2D(2,2),\n",
        "    tf.keras.layers.Conv2D(128, (3,3), activation='relu'),\n",
        "    tf.keras.layers.MaxPooling2D(2,2),\n",
        "    tf.keras.layers.Flatten(),\n",
        "    tf.keras.layers.Dropout(0.5),\n",
        "    tf.keras.layers.Dense(128, activation='relu'),\n",
        "    tf.keras.layers.Dense(3, activation='softmax')\n",
        "]\n",
        ")"
      ],
      "execution_count": 47,
      "outputs": []
    },
    {
      "cell_type": "code",
      "metadata": {
        "colab": {
          "base_uri": "https://localhost:8080/"
        },
        "id": "kWDjl-T3Ibp1",
        "outputId": "bd268041-4e9c-4259-cead-8e55d33aabcb"
      },
      "source": [
        "# Penggunaan Optimizer 'Adam' dengan learning rate 0.00146\n",
        "from tensorflow.keras.optimizers import Adam\n",
        "Adam(learning_rate=0.00146, name='Adam')\n",
        "model.compile(optimizer = 'Adam',loss = 'categorical_crossentropy',metrics = ['accuracy'])\n",
        "\n",
        "model.summary()"
      ],
      "execution_count": 48,
      "outputs": [
        {
          "output_type": "stream",
          "text": [
            "Model: \"sequential_3\"\n",
            "_________________________________________________________________\n",
            "Layer (type)                 Output Shape              Param #   \n",
            "=================================================================\n",
            "conv2d_9 (Conv2D)            (None, 148, 148, 64)      1792      \n",
            "_________________________________________________________________\n",
            "max_pooling2d_9 (MaxPooling2 (None, 74, 74, 64)        0         \n",
            "_________________________________________________________________\n",
            "conv2d_10 (Conv2D)           (None, 72, 72, 64)        36928     \n",
            "_________________________________________________________________\n",
            "max_pooling2d_10 (MaxPooling (None, 36, 36, 64)        0         \n",
            "_________________________________________________________________\n",
            "conv2d_11 (Conv2D)           (None, 34, 34, 128)       73856     \n",
            "_________________________________________________________________\n",
            "max_pooling2d_11 (MaxPooling (None, 17, 17, 128)       0         \n",
            "_________________________________________________________________\n",
            "flatten_3 (Flatten)          (None, 36992)             0         \n",
            "_________________________________________________________________\n",
            "dropout_3 (Dropout)          (None, 36992)             0         \n",
            "_________________________________________________________________\n",
            "dense_6 (Dense)              (None, 128)               4735104   \n",
            "_________________________________________________________________\n",
            "dense_7 (Dense)              (None, 3)                 387       \n",
            "=================================================================\n",
            "Total params: 4,848,067\n",
            "Trainable params: 4,848,067\n",
            "Non-trainable params: 0\n",
            "_________________________________________________________________\n"
          ],
          "name": "stdout"
        }
      ]
    },
    {
      "cell_type": "code",
      "metadata": {
        "id": "4efhWDBqIeMP"
      },
      "source": [
        "#callback\n",
        "class myCallback(tf.keras.callbacks.Callback):\n",
        "  def on_epoch_end(self, epoch, logs={}):\n",
        "    if(logs.get('accuracy')>0.95 and logs.get('val_accuracy')>0.95):\n",
        "      print(\"\\nAccuracy above 95%, finish training!\")\n",
        "      self.model.stop_training = True\n",
        "\n",
        "callbacks = myCallback()"
      ],
      "execution_count": 56,
      "outputs": []
    },
    {
      "cell_type": "code",
      "metadata": {
        "colab": {
          "base_uri": "https://localhost:8080/"
        },
        "id": "-IEZ_xQVIzSR",
        "outputId": "1b8c92bd-00cc-48bc-8ecc-a0e64a5dd3b9"
      },
      "source": [
        "# Proses Training \n",
        "batch_size = 32\n",
        "history = model.fit(train_generator, \n",
        "                    epochs =  10, \n",
        "                    steps_per_epoch = 1750//batch_size, \n",
        "                    validation_data = validation_generator, \n",
        "                    verbose = 2, \n",
        "                    validation_steps = 439//batch_size,\n",
        "                    callbacks =[callbacks])"
      ],
      "execution_count": 57,
      "outputs": [
        {
          "output_type": "stream",
          "text": [
            "Epoch 1/10\n",
            "54/54 - 109s - loss: 0.1821 - accuracy: 0.9359 - val_loss: 0.2403 - val_accuracy: 0.9279\n",
            "Epoch 2/10\n",
            "54/54 - 108s - loss: 0.1592 - accuracy: 0.9487 - val_loss: 0.2179 - val_accuracy: 0.9159\n",
            "Epoch 3/10\n",
            "54/54 - 109s - loss: 0.1610 - accuracy: 0.9458 - val_loss: 0.2072 - val_accuracy: 0.9327\n",
            "Epoch 4/10\n",
            "54/54 - 109s - loss: 0.1350 - accuracy: 0.9522 - val_loss: 0.1920 - val_accuracy: 0.9447\n",
            "Epoch 5/10\n",
            "54/54 - 110s - loss: 0.1449 - accuracy: 0.9511 - val_loss: 0.1389 - val_accuracy: 0.9567\n",
            "\n",
            "Accuracy above 95%, finish training!\n"
          ],
          "name": "stdout"
        }
      ]
    },
    {
      "cell_type": "code",
      "metadata": {
        "id": "p5-ieLdjJjKg"
      },
      "source": [
        "import matplotlib.pyplot as plt\n",
        "\n",
        "accuracy = history.history['accuracy']\n",
        "epoch = range(len(accuracy))\n",
        "validation_accuracy = history.history['val_accuracy']\n",
        "loss = history.history['loss']\n",
        "validation_loss = history.history['val_loss']"
      ],
      "execution_count": 59,
      "outputs": []
    },
    {
      "cell_type": "code",
      "metadata": {
        "id": "YanCkKKvWUPt",
        "outputId": "414f4247-5684-4457-8d1d-4302fea911ae",
        "colab": {
          "base_uri": "https://localhost:8080/",
          "height": 300
        }
      },
      "source": [
        "# Menampilkan grafik untuk training dan validation loss\n",
        "plt.plot(epoch, loss, 'r', label='Train_loss')\n",
        "plt.plot(epoch, validation_loss, 'g', label='Val_loss')\n",
        "plt.title('Train and val loss plot')\n",
        "plt.legend(loc=0)\n",
        "plt.figure()\n",
        "\n",
        "plt.show()"
      ],
      "execution_count": 60,
      "outputs": [
        {
          "output_type": "display_data",
          "data": {
            "image/png": "[encoded data removed]",
            "text/plain": [
              "<Figure size 432x288 with 1 Axes>"
            ]
          },
          "metadata": {
            "tags": [],
            "needs_background": "light"
          }
        },
        {
          "output_type": "display_data",
          "data": {
            "text/plain": [
              "<Figure size 432x288 with 0 Axes>"
            ]
          },
          "metadata": {
            "tags": []
          }
        }
      ]
    },
    {
      "cell_type": "code",
      "metadata": {
        "id": "bX6QIXCZWbFE",
        "outputId": "f4e06638-148b-4d02-ba22-954fda28b832",
        "colab": {
          "base_uri": "https://localhost:8080/",
          "height": 300
        }
      },
      "source": [
        "# Menampilkan grafik untuk training dan validation accuracy\n",
        "plt.plot(epoch, accuracy, 'r', label='Train_accuracy')\n",
        "plt.plot(epoch, validation_accuracy, 'g', label='Val_accuracy')\n",
        "plt.title('Train and val accuracy plot')\n",
        "plt.legend(loc=0)\n",
        "plt.figure()\n",
        "\n",
        "plt.show()"
      ],
      "execution_count": 61,
      "outputs": [
        {
          "output_type": "display_data",
          "data": {
            "image/png": "[encoded data removed]",
            "text/plain": [
              "<Figure size 432x288 with 1 Axes>"
            ]
          },
          "metadata": {
            "tags": [],
            "needs_background": "light"
          }
        },
        {
          "output_type": "display_data",
          "data": {
            "text/plain": [
              "<Figure size 432x288 with 0 Axes>"
            ]
          },
          "metadata": {
            "tags": []
          }
        }
      ]
    },
    {
      "cell_type": "code",
      "metadata": {
        "id": "gHMxYDnWaXRj",
        "outputId": "11e72fdb-b7ab-4bb5-81d0-aed5b78cd07b",
        "colab": {
          "base_uri": "https://localhost:8080/"
        }
      },
      "source": [
        "#Konversi model\n",
        "converter = tf.lite.TFLiteConverter.from_keras_model(model)\n",
        "tflite_model = converter.convert()"
      ],
      "execution_count": 63,
      "outputs": [
        {
          "output_type": "stream",
          "text": [
            "INFO:tensorflow:Assets written to: /tmp/tmp3lvrcwun/assets\n"
          ],
          "name": "stdout"
        }
      ]
    },
    {
      "cell_type": "code",
      "metadata": {
        "id": "1JZcZEAxad_Z",
        "outputId": "e08b25f0-1eff-4940-f316-214db8450d8d",
        "colab": {
          "base_uri": "https://localhost:8080/"
        }
      },
      "source": [
        "#save modelnya\n",
        "with tf.io.gfile.GFile('model.tflite', 'wb') as f:\n",
        "  f.write(tflite_model)\n",
        "  model.save('my_model.pb') "
      ],
      "execution_count": 66,
      "outputs": [
        {
          "output_type": "stream",
          "text": [
            "INFO:tensorflow:Assets written to: my_model.pb/assets\n"
          ],
          "name": "stdout"
        },
        {
          "output_type": "stream",
          "text": [
            "INFO:tensorflow:Assets written to: my_model.pb/assets\n"
          ],
          "name": "stderr"
        }
      ]
    }
  ]
}